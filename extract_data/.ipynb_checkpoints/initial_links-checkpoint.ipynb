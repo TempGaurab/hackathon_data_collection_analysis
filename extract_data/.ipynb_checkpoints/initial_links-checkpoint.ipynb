{
 "cells": [
  {
   "cell_type": "code",
   "execution_count": 1,
   "id": "9e44e38a-16e8-42ff-b7ce-fae4ce6a0ed2",
   "metadata": {},
   "outputs": [],
   "source": [
    "import pandas as pd\n",
    "import numpy as np\n",
    "import requests as req\n",
    "from bs4 import BeautifulSoup\n",
    "import math\n",
    "from tqdm import tqdm\n"
   ]
  },
  {
   "cell_type": "code",
   "execution_count": 2,
   "id": "2e230898-390b-4bc1-ac23-da23f6f51121",
   "metadata": {},
   "outputs": [
    {
     "data": {
      "text/plain": [
       "{'HackHarvard 2024': ['https://hackharvard-2024.devpost.com/project-gallery?page=1',\n",
       "  'https://hackharvard-2024.devpost.com/project-gallery?page=2',\n",
       "  'https://hackharvard-2024.devpost.com/project-gallery?page=3',\n",
       "  'https://hackharvard-2024.devpost.com/project-gallery?page=4',\n",
       "  'https://hackharvard-2024.devpost.com/project-gallery?page=5',\n",
       "  'https://hackharvard-2024.devpost.com/project-gallery?page=6'],\n",
       " 'HackDearborn 2024': ['https://hackdearborn3.devpost.com/project-gallery?page=1',\n",
       "  'https://hackdearborn3.devpost.com/project-gallery?page=2',\n",
       "  'https://hackdearborn3.devpost.com/project-gallery?page=3'],\n",
       " 'HackKU25': ['https://hackku-2025.devpost.com/project-gallery?page=1',\n",
       "  'https://hackku-2025.devpost.com/project-gallery?page=2',\n",
       "  'https://hackku-2025.devpost.com/project-gallery?page=3',\n",
       "  'https://hackku-2025.devpost.com/project-gallery?page=4'],\n",
       " 'VTHacks 12': ['https://vthacks-12.devpost.com/project-gallery?page=1',\n",
       "  'https://vthacks-12.devpost.com/project-gallery?page=2',\n",
       "  'https://vthacks-12.devpost.com/project-gallery?page=3',\n",
       "  'https://vthacks-12.devpost.com/project-gallery?page=4',\n",
       "  'https://vthacks-12.devpost.com/project-gallery?page=5',\n",
       "  'https://vthacks-12.devpost.com/project-gallery?page=6',\n",
       "  'https://vthacks-12.devpost.com/project-gallery?page=7',\n",
       "  'https://vthacks-12.devpost.com/project-gallery?page=8'],\n",
       " 'RevolutionUC 2025': ['https://revolutionuc-2025.devpost.com/project-gallery?page=1',\n",
       "  'https://revolutionuc-2025.devpost.com/project-gallery?page=2',\n",
       "  'https://revolutionuc-2025.devpost.com/project-gallery?page=3'],\n",
       " 'MIT Reality Hack 2024': ['https://mit-reality-hack-2024.devpost.com/project-gallery?page=1',\n",
       "  'https://mit-reality-hack-2024.devpost.com/project-gallery?page=2',\n",
       "  'https://mit-reality-hack-2024.devpost.com/project-gallery?page=3',\n",
       "  'https://mit-reality-hack-2024.devpost.com/project-gallery?page=4',\n",
       "  'https://mit-reality-hack-2024.devpost.com/project-gallery?page=5'],\n",
       " 'TreeHacks 2025': ['https://treehacks-2025.devpost.com/project-gallery?page=1',\n",
       "  'https://treehacks-2025.devpost.com/project-gallery?page=2',\n",
       "  'https://treehacks-2025.devpost.com/project-gallery?page=3',\n",
       "  'https://treehacks-2025.devpost.com/project-gallery?page=4',\n",
       "  'https://treehacks-2025.devpost.com/project-gallery?page=5',\n",
       "  'https://treehacks-2025.devpost.com/project-gallery?page=6',\n",
       "  'https://treehacks-2025.devpost.com/project-gallery?page=7',\n",
       "  'https://treehacks-2025.devpost.com/project-gallery?page=8',\n",
       "  'https://treehacks-2025.devpost.com/project-gallery?page=9',\n",
       "  'https://treehacks-2025.devpost.com/project-gallery?page=10',\n",
       "  'https://treehacks-2025.devpost.com/project-gallery?page=11'],\n",
       " 'IDEA Hacks 2024': ['https://idea-hacks-2024.devpost.com/project-gallery?page=1',\n",
       "  'https://idea-hacks-2024.devpost.com/project-gallery?page=2'],\n",
       " 'HackNC 2024': ['https://hacknc-2024.devpost.com/project-gallery?page=1',\n",
       "  'https://hacknc-2024.devpost.com/project-gallery?page=2',\n",
       "  'https://hacknc-2024.devpost.com/project-gallery?page=3',\n",
       "  'https://hacknc-2024.devpost.com/project-gallery?page=4'],\n",
       " 'Auburn Hacks 2024': ['https://auburnhacks-2024.devpost.com/project-gallery?page=1',\n",
       "  'https://auburnhacks-2024.devpost.com/project-gallery?page=2'],\n",
       " 'Victor Hacks': ['https://victor-hacks-nku.devpost.com/project-gallery?page=1'],\n",
       " 'BiolerMake_X_2023': ['https://boilermake-x.devpost.com/project-gallery?page=1',\n",
       "  'https://boilermake-x.devpost.com/project-gallery?page=2',\n",
       "  'https://boilermake-x.devpost.com/project-gallery?page=3',\n",
       "  'https://boilermake-x.devpost.com/project-gallery?page=4'],\n",
       " 'IrvineHacks_2024': ['https://irvinehacks-2024.devpost.com/project-gallery?page=1',\n",
       "  'https://irvinehacks-2024.devpost.com/project-gallery?page=2',\n",
       "  'https://irvinehacks-2024.devpost.com/project-gallery?page=3',\n",
       "  'https://irvinehacks-2024.devpost.com/project-gallery?page=4']}"
      ]
     },
     "execution_count": 2,
     "metadata": {},
     "output_type": "execute_result"
    }
   ],
   "source": [
    "names = [\n",
    "    \"HackHarvard 2024\",\n",
    "    \"HackDearborn 2024\",\n",
    "    \"HackKU25\",\n",
    "    \"VTHacks 12\",\n",
    "    \"RevolutionUC 2025\",\n",
    "    \"MIT Reality Hack 2024\",\n",
    "    \"TreeHacks 2025\",\n",
    "    \"IDEA Hacks 2024\",\n",
    "    \"HackNC 2024\",\n",
    "    \"Auburn Hacks 2024\",\n",
    "    \"Victor Hacks\",\n",
    "    \"BiolerMake_X_2023\",\n",
    "    \"IrvineHacks_2024\"\n",
    "]\n",
    "submissions = [141, 68, 96, 178, 60, 98, 257, 48, 94, 31, 18, 80 , 88]\n",
    "base_urls = [\n",
    "    \"https://hackharvard-2024.devpost.com/project-gallery?\",\n",
    "    \"https://hackdearborn3.devpost.com/project-gallery?\",\n",
    "    \"https://hackku-2025.devpost.com/project-gallery?\",\n",
    "    \"https://vthacks-12.devpost.com/project-gallery?\",\n",
    "    \"https://revolutionuc-2025.devpost.com/project-gallery?\",\n",
    "    \"https://mit-reality-hack-2024.devpost.com/project-gallery?\",\n",
    "    \"https://treehacks-2025.devpost.com/project-gallery?\",\n",
    "    \"https://idea-hacks-2024.devpost.com/project-gallery?\",\n",
    "    \"https://hacknc-2024.devpost.com/project-gallery?\",\n",
    "    \"https://auburnhacks-2024.devpost.com/project-gallery?\",\n",
    "    \"https://victor-hacks-nku.devpost.com/project-gallery?\",\n",
    "    \"https://boilermake-x.devpost.com/project-gallery?\",\n",
    "    \"https://irvinehacks-2024.devpost.com/project-gallery?\"\n",
    "]\n",
    "all_project_links = {}\n",
    "j = 0\n",
    "for base_url, sub_count in zip(base_urls, submissions):\n",
    "    pages = math.ceil(sub_count / 24)  # round up to get number of pages\n",
    "    project_links = [f\"{base_url}page={i}\" for i in range(1, pages + 1)]\n",
    "    all_project_links[names[j]] = project_links\n",
    "    j += 1\n",
    "# Example: print links for HackHarvard\n",
    "all_project_links"
   ]
  },
  {
   "cell_type": "code",
   "execution_count": 3,
   "id": "769e33d7-f045-451b-8ce7-d6bbadcdb98a",
   "metadata": {},
   "outputs": [
    {
     "data": {
      "text/plain": [
       "13"
      ]
     },
     "execution_count": 3,
     "metadata": {},
     "output_type": "execute_result"
    }
   ],
   "source": [
    "len(all_project_links) # 13  = 10 + 3. Correct"
   ]
  },
  {
   "cell_type": "code",
   "execution_count": 4,
   "id": "f447a04f-f4c8-4b60-9c65-3347909a900d",
   "metadata": {},
   "outputs": [],
   "source": [
    "def link_to_csv(links, hackathon_name):\n",
    "    project_data = []\n",
    "\n",
    "    for url in links:\n",
    "        response = req.get(url)\n",
    "        soup = BeautifulSoup(response.text, \"html.parser\")\n",
    "        links_soup = soup.find_all(\"a\", class_=\"block-wrapper-link fade link-to-software\")\n",
    "\n",
    "        for a in links_soup:\n",
    "            href = a[\"href\"]\n",
    "            title_tag = a.find(\"h5\")\n",
    "            title = title_tag.get_text(strip=True) if title_tag else \"\"\n",
    "            winner_tag = a.find(\"img\", class_=\"winner\")\n",
    "            is_winner = True if winner_tag else False\n",
    "\n",
    "            project_data.append({\n",
    "                \"hackathon_name\": hackathon_name,\n",
    "                \"project_name\": title,\n",
    "                \"project_link\": href,\n",
    "                \"winner\": is_winner\n",
    "            })\n",
    "\n",
    "    df = pd.DataFrame(project_data)\n",
    "    df.to_csv(f\"{hackathon_name}.csv\", index=False)\n",
    "    print(f\"✅ Saved {len(project_data)} projects from {hackathon_name} to {hackathon_name}.csv\")"
   ]
  },
  {
   "cell_type": "code",
   "execution_count": 5,
   "id": "60c495a3-6c4e-4987-b980-82bcdd5fd80e",
   "metadata": {},
   "outputs": [
    {
     "name": "stderr",
     "output_type": "stream",
     "text": [
      "Processing Hackathons:   8%|████▌                                                       | 1/13 [00:05<01:07,  5.65s/it]"
     ]
    },
    {
     "name": "stdout",
     "output_type": "stream",
     "text": [
      "✅ Saved 141 projects from HackHarvard 2024 to HackHarvard 2024.csv\n"
     ]
    },
    {
     "name": "stderr",
     "output_type": "stream",
     "text": [
      "Processing Hackathons:  15%|█████████▏                                                  | 2/13 [00:08<00:41,  3.75s/it]"
     ]
    },
    {
     "name": "stdout",
     "output_type": "stream",
     "text": [
      "✅ Saved 68 projects from HackDearborn 2024 to HackDearborn 2024.csv\n"
     ]
    },
    {
     "name": "stderr",
     "output_type": "stream",
     "text": [
      "Processing Hackathons:  23%|█████████████▊                                              | 3/13 [00:11<00:34,  3.44s/it]"
     ]
    },
    {
     "name": "stdout",
     "output_type": "stream",
     "text": [
      "✅ Saved 96 projects from HackKU25 to HackKU25.csv\n"
     ]
    },
    {
     "name": "stderr",
     "output_type": "stream",
     "text": [
      "Processing Hackathons:  31%|██████████████████▍                                         | 4/13 [00:17<00:41,  4.65s/it]"
     ]
    },
    {
     "name": "stdout",
     "output_type": "stream",
     "text": [
      "✅ Saved 178 projects from VTHacks 12 to VTHacks 12.csv\n"
     ]
    },
    {
     "name": "stderr",
     "output_type": "stream",
     "text": [
      "Processing Hackathons:  38%|███████████████████████                                     | 5/13 [00:19<00:30,  3.82s/it]"
     ]
    },
    {
     "name": "stdout",
     "output_type": "stream",
     "text": [
      "✅ Saved 60 projects from RevolutionUC 2025 to RevolutionUC 2025.csv\n"
     ]
    },
    {
     "name": "stderr",
     "output_type": "stream",
     "text": [
      "Processing Hackathons:  46%|███████████████████████████▋                                | 6/13 [00:23<00:26,  3.81s/it]"
     ]
    },
    {
     "name": "stdout",
     "output_type": "stream",
     "text": [
      "✅ Saved 98 projects from MIT Reality Hack 2024 to MIT Reality Hack 2024.csv\n"
     ]
    },
    {
     "name": "stderr",
     "output_type": "stream",
     "text": [
      "Processing Hackathons:  54%|████████████████████████████████▎                           | 7/13 [00:32<00:33,  5.55s/it]"
     ]
    },
    {
     "name": "stdout",
     "output_type": "stream",
     "text": [
      "✅ Saved 257 projects from TreeHacks 2025 to TreeHacks 2025.csv\n"
     ]
    },
    {
     "name": "stderr",
     "output_type": "stream",
     "text": [
      "Processing Hackathons:  62%|████████████████████████████████████▉                       | 8/13 [00:34<00:21,  4.33s/it]"
     ]
    },
    {
     "name": "stdout",
     "output_type": "stream",
     "text": [
      "✅ Saved 48 projects from IDEA Hacks 2024 to IDEA Hacks 2024.csv\n"
     ]
    },
    {
     "name": "stderr",
     "output_type": "stream",
     "text": [
      "Processing Hackathons:  69%|█████████████████████████████████████████▌                  | 9/13 [00:37<00:15,  3.98s/it]"
     ]
    },
    {
     "name": "stdout",
     "output_type": "stream",
     "text": [
      "✅ Saved 94 projects from HackNC 2024 to HackNC 2024.csv\n"
     ]
    },
    {
     "name": "stderr",
     "output_type": "stream",
     "text": [
      "Processing Hackathons:  77%|█████████████████████████████████████████████▍             | 10/13 [00:39<00:09,  3.22s/it]"
     ]
    },
    {
     "name": "stdout",
     "output_type": "stream",
     "text": [
      "✅ Saved 31 projects from Auburn Hacks 2024 to Auburn Hacks 2024.csv\n"
     ]
    },
    {
     "name": "stderr",
     "output_type": "stream",
     "text": [
      "Processing Hackathons:  85%|█████████████████████████████████████████████████▉         | 11/13 [00:40<00:04,  2.45s/it]"
     ]
    },
    {
     "name": "stdout",
     "output_type": "stream",
     "text": [
      "✅ Saved 18 projects from Victor Hacks to Victor Hacks.csv\n"
     ]
    },
    {
     "name": "stderr",
     "output_type": "stream",
     "text": [
      "Processing Hackathons:  92%|██████████████████████████████████████████████████████▍    | 12/13 [00:42<00:02,  2.58s/it]"
     ]
    },
    {
     "name": "stdout",
     "output_type": "stream",
     "text": [
      "✅ Saved 80 projects from BiolerMake_X_2023 to BiolerMake_X_2023.csv\n"
     ]
    },
    {
     "name": "stderr",
     "output_type": "stream",
     "text": [
      "Processing Hackathons: 100%|███████████████████████████████████████████████████████████| 13/13 [00:45<00:00,  3.53s/it]"
     ]
    },
    {
     "name": "stdout",
     "output_type": "stream",
     "text": [
      "✅ Saved 88 projects from IrvineHacks_2024 to IrvineHacks_2024.csv\n"
     ]
    },
    {
     "name": "stderr",
     "output_type": "stream",
     "text": [
      "\n"
     ]
    }
   ],
   "source": [
    "# Loop through all hackathons with a progress bar\n",
    "for hackathon_name, links in tqdm(all_project_links.items(), desc=\"Processing Hackathons\"):\n",
    "    link_to_csv(links, hackathon_name)"
   ]
  },
  {
   "cell_type": "code",
   "execution_count": 6,
   "id": "25218414-30ed-4b6c-b7de-d1a3a99e241a",
   "metadata": {},
   "outputs": [],
   "source": [
    "#old code:"
   ]
  },
  {
   "cell_type": "code",
   "execution_count": 7,
   "id": "8c2580f2-41e6-48e5-aa9a-84b9c163b392",
   "metadata": {},
   "outputs": [],
   "source": [
    "#project_link = [f\"https://irvinehacks-2024.devpost.com/project-gallery?page={i}\" for i in range(1, 5)]"
   ]
  },
  {
   "cell_type": "code",
   "execution_count": 8,
   "id": "76971866-d96b-4eb9-98d7-08be3c954bfd",
   "metadata": {},
   "outputs": [
    {
     "data": {
      "text/plain": [
       "'\\nimport requests as req\\nfrom bs4 import BeautifulSoup\\nimport pandas as pd\\n\\ndef link_to_csv(links, hackathon_name):\\n    project_data = []  # will hold dicts with hackathon, project_name, project_link, winner\\n\\n    for url in links:   # loop directly over URLs\\n        response = req.get(url)\\n        soup = BeautifulSoup(response.text, \"html.parser\")\\n\\n        # find all project <a> tags\\n        links_soup = soup.find_all(\"a\", class_=\"block-wrapper-link fade link-to-software\")\\n        \\n        # extract href, name, and winner info\\n        for a in links_soup:\\n            href = a[\"href\"]\\n            title_tag = a.find(\"h5\")\\n            title = title_tag.get_text(strip=True) if title_tag else \"\"\\n            \\n            # check if there is a winner badge\\n            winner_tag = a.find(\"img\", class_=\"winner\")\\n            is_winner = True if winner_tag else False\\n            \\n            project_data.append({\\n                \"hackathon_name\": hackathon_name,\\n                \"project_name\": title,\\n                \"project_link\": href,\\n                \"winner\": is_winner\\n            })\\n\\n    # save to CSV\\n    df = pd.DataFrame(project_data)\\n    df.to_csv(f\"{hackathon_name}.csv\", index=False)\\n    print(f\"✅ Saved {len(project_data)} projects from {hackathon_name} to {hackathon_name}.csv\")\\n\\n'"
      ]
     },
     "execution_count": 8,
     "metadata": {},
     "output_type": "execute_result"
    }
   ],
   "source": [
    "#This code does for one at a time: POC\n",
    "'''\n",
    "import requests as req\n",
    "from bs4 import BeautifulSoup\n",
    "import pandas as pd\n",
    "\n",
    "def link_to_csv(links, hackathon_name):\n",
    "    project_data = []  # will hold dicts with hackathon, project_name, project_link, winner\n",
    "\n",
    "    for url in links:   # loop directly over URLs\n",
    "        response = req.get(url)\n",
    "        soup = BeautifulSoup(response.text, \"html.parser\")\n",
    "\n",
    "        # find all project <a> tags\n",
    "        links_soup = soup.find_all(\"a\", class_=\"block-wrapper-link fade link-to-software\")\n",
    "        \n",
    "        # extract href, name, and winner info\n",
    "        for a in links_soup:\n",
    "            href = a[\"href\"]\n",
    "            title_tag = a.find(\"h5\")\n",
    "            title = title_tag.get_text(strip=True) if title_tag else \"\"\n",
    "            \n",
    "            # check if there is a winner badge\n",
    "            winner_tag = a.find(\"img\", class_=\"winner\")\n",
    "            is_winner = True if winner_tag else False\n",
    "            \n",
    "            project_data.append({\n",
    "                \"hackathon_name\": hackathon_name,\n",
    "                \"project_name\": title,\n",
    "                \"project_link\": href,\n",
    "                \"winner\": is_winner\n",
    "            })\n",
    "\n",
    "    # save to CSV\n",
    "    df = pd.DataFrame(project_data)\n",
    "    df.to_csv(f\"{hackathon_name}.csv\", index=False)\n",
    "    print(f\"✅ Saved {len(project_data)} projects from {hackathon_name} to {hackathon_name}.csv\")\n",
    "\n",
    "'''\n"
   ]
  },
  {
   "cell_type": "code",
   "execution_count": 11,
   "id": "abc07f06-b797-4db7-b2da-01006cbd2736",
   "metadata": {},
   "outputs": [
    {
     "name": "stdout",
     "output_type": "stream",
     "text": [
      "✅ Merged 10 CSV files into all_hackathons_merged.csv with 1071 total projects.\n"
     ]
    }
   ],
   "source": [
    "\n",
    "import pandas as pd\n",
    "import glob\n",
    "\n",
    "# Get all CSV files in the current directory (assuming they end with .csv)\n",
    "csv_files = glob.glob(\"*.csv\")\n",
    "\n",
    "# List to hold dataframes\n",
    "dfs = []\n",
    "\n",
    "# Read each CSV and append to the list\n",
    "for file in csv_files:\n",
    "    df = pd.read_csv(file)\n",
    "    dfs.append(df)\n",
    "\n",
    "# Concatenate all dataframes into one\n",
    "merged_df = pd.concat(dfs, ignore_index=True)\n",
    "\n",
    "# Save the merged dataframe to a new CSV\n",
    "merged_df.to_csv(\"all_hackathons_merged.csv\", index=False)\n",
    "print(f\"✅ Merged {len(csv_files)} CSV files into all_hackathons_merged.csv with {len(merged_df)} total projects.\")\n"
   ]
  },
  {
   "cell_type": "code",
   "execution_count": null,
   "id": "be0cbf4a-edd8-4e0c-8563-96f77e510825",
   "metadata": {},
   "outputs": [],
   "source": []
  }
 ],
 "metadata": {
  "kernelspec": {
   "display_name": "Python 3 (ipykernel)",
   "language": "python",
   "name": "python3"
  },
  "language_info": {
   "codemirror_mode": {
    "name": "ipython",
    "version": 3
   },
   "file_extension": ".py",
   "mimetype": "text/x-python",
   "name": "python",
   "nbconvert_exporter": "python",
   "pygments_lexer": "ipython3",
   "version": "3.11.4"
  }
 },
 "nbformat": 4,
 "nbformat_minor": 5
}
